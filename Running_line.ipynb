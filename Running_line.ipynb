{
 "cells": [
  {
   "cell_type": "code",
   "execution_count": null,
   "metadata": {},
   "outputs": [],
   "source": [
    "import pygame\n",
    "import time\n",
    "\n",
    "pygame.init()\n",
    "\n",
    "size = (100,100) # Размер окна\n",
    "screen = pygame.display.set_mode(size)\n",
    "pygame.display.set_caption(\"Бегущая строка\")\n",
    "font = pygame.font.SysFont('comicsansms', 20)\n",
    "\n",
    "BLUE = (30, 144, 255)\n",
    "WHITE = (255, 255, 255)\n",
    "LIGHT_BLUE = (176, 224, 230)\n",
    "\n",
    "follow = font.render(\"Run, Forrest, run!\",5,WHITE,BLUE)\n",
    "width, heigh = follow.get_size()\n",
    "x,y = 0,30\n",
    "FPS = 150 # Частота кадров\n",
    "\n",
    "clock = pygame.time.Clock() \n",
    "time_out = 3 # Время остановки бегущей строки в секундах\n",
    "timeout = time.time() + time_out\n",
    "while True: \n",
    "      \n",
    "    for event in pygame.event.get():\n",
    "        if event.type == pygame.QUIT:\n",
    "                quit()\n",
    "    clock.tick(FPS)\n",
    "    screen.fill(LIGHT_BLUE)\n",
    "    screen.blit(follow,(x,y)) \n",
    "    x+=1\n",
    "    if x>=100:\n",
    "        x = 0-width \n",
    "    elif time.time() > timeout:\n",
    "        break\n",
    "    pygame.display.update()    "
   ]
  }
 ],
 "metadata": {
  "kernelspec": {
   "display_name": "Python 3",
   "language": "python",
   "name": "python3"
  },
  "language_info": {
   "codemirror_mode": {
    "name": "ipython",
    "version": 3
   },
   "file_extension": ".py",
   "mimetype": "text/x-python",
   "name": "python",
   "nbconvert_exporter": "python",
   "pygments_lexer": "ipython3",
   "version": "3.10.9"
  },
  "orig_nbformat": 4
 },
 "nbformat": 4,
 "nbformat_minor": 2
}
